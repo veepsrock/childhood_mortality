{
 "cells": [
  {
   "cell_type": "code",
   "execution_count": 1,
   "id": "2419ae49",
   "metadata": {},
   "outputs": [],
   "source": [
    "import requests\n",
    "import pandas as pd\n",
    "import os"
   ]
  },
  {
   "cell_type": "code",
   "execution_count": 2,
   "id": "aed2d25a",
   "metadata": {},
   "outputs": [],
   "source": [
    "# use this to offset response\n",
    "# url = \"https://api.reliefweb.int/v1/sources?appname=rwint-user-0&profile=list&preset=latest&slim=1&query%5Bvalue%5D=status%3Aactive&query%5Boperator%5D=AND&offset=1000&limit=1000\""
   ]
  },
  {
   "cell_type": "code",
   "execution_count": 3,
   "id": "1947a71a",
   "metadata": {},
   "outputs": [],
   "source": [
    "# create a list for sahel countries\n",
    "sahel_countries = [\"Djibouti\", \"Eritrea\", \"Ethiopia\", \"Sudan\", \"Chad\", \"Niger\", \"Nigeria\", \"Mali\", \"Burkina%20Faso\", \"Mauitania\", \"Senegal\"]"
   ]
  },
  {
   "cell_type": "code",
   "execution_count": 4,
   "id": "4c1acccc",
   "metadata": {},
   "outputs": [],
   "source": [
    "# get countries from hotspots data\n",
    "hotspots = pd.read_csv(\"infant_hotspots.csv\")\n",
    "\n",
    "# remove space so we can use for URL generator\n",
    "hotspots[\"ADM0_NAME\"]=hotspots[\"ADM0_NAME\"].str.replace(\" \", \"%20\")"
   ]
  },
  {
   "cell_type": "code",
   "execution_count": 5,
   "id": "68a8563b",
   "metadata": {},
   "outputs": [],
   "source": [
    "# create a list of countries\n",
    "country_list = list(hotspots[\"ADM0_NAME\"].unique())\n",
    "\n",
    "# check if sahel countries are included in country_list. If not, append to country_list\n",
    "for country in sahel_countries:\n",
    "    if country not in country_list:\n",
    "        country_list.append(country)"
   ]
  },
  {
   "cell_type": "code",
   "execution_count": 29,
   "id": "539d33a9",
   "metadata": {},
   "outputs": [],
   "source": [
    "country_list.sort()"
   ]
  },
  {
   "cell_type": "code",
   "execution_count": 30,
   "id": "646f624d",
   "metadata": {},
   "outputs": [
    {
     "data": {
      "text/plain": [
       "['Angola',\n",
       " 'Burkina%20Faso',\n",
       " 'Central%20African%20Republic',\n",
       " 'Chad',\n",
       " \"Côte%20d'Ivoire\",\n",
       " 'Democratic%20Republic%20of%20the%20Congo',\n",
       " 'Djibouti',\n",
       " 'Eritrea',\n",
       " 'Ethiopia',\n",
       " 'Guinea',\n",
       " 'Liberia',\n",
       " 'Mali',\n",
       " 'Mauitania',\n",
       " 'Niger',\n",
       " 'Nigeria',\n",
       " 'Senegal',\n",
       " 'Sierra%20Leone',\n",
       " 'Somalia',\n",
       " 'South%20Sudan',\n",
       " 'Sudan',\n",
       " 'Zambia']"
      ]
     },
     "execution_count": 30,
     "metadata": {},
     "output_type": "execute_result"
    }
   ],
   "source": [
    "country_list"
   ]
  },
  {
   "cell_type": "code",
   "execution_count": 6,
   "id": "9b6baeb2",
   "metadata": {},
   "outputs": [
    {
     "data": {
      "text/plain": [
       "['Sierra%20Leone',\n",
       " 'South%20Sudan',\n",
       " 'Burkina%20Faso',\n",
       " 'Central%20African%20Republic',\n",
       " 'Mali',\n",
       " 'Somalia',\n",
       " \"Côte%20d'Ivoire\",\n",
       " 'Guinea',\n",
       " 'Chad',\n",
       " 'Zambia',\n",
       " 'Nigeria',\n",
       " 'Democratic%20Republic%20of%20the%20Congo',\n",
       " 'Angola',\n",
       " 'Liberia',\n",
       " 'Djibouti',\n",
       " 'Eritrea',\n",
       " 'Ethiopia',\n",
       " 'Sudan',\n",
       " 'Niger',\n",
       " 'Mauitania',\n",
       " 'Senegal']"
      ]
     },
     "execution_count": 6,
     "metadata": {},
     "output_type": "execute_result"
    }
   ],
   "source": [
    "country_list"
   ]
  },
  {
   "cell_type": "markdown",
   "id": "f5f18ba6",
   "metadata": {},
   "source": [
    "### custom function for building API query"
   ]
  },
  {
   "cell_type": "code",
   "execution_count": 7,
   "id": "702cfcc0",
   "metadata": {},
   "outputs": [],
   "source": [
    "def url_builder(country):\n",
    "    url = \"https://api.reliefweb.int/v1/sources?appname=rwint-user-0&profile=list&preset=latest&slim=1&query%5Bvalue%5D=%28country.exact%3A%22\"+ country +\"%22%29+AND+status%3Aactive&query%5Boperator%5D=AND\"\n",
    "    return url"
   ]
  },
  {
   "cell_type": "markdown",
   "id": "f8876728",
   "metadata": {},
   "source": [
    "### get request for all countries in sahel region"
   ]
  },
  {
   "cell_type": "code",
   "execution_count": 12,
   "id": "4e57f295",
   "metadata": {},
   "outputs": [],
   "source": [
    "orgs_list = []\n",
    "for country in country_list:\n",
    "    url = url_builder(country)\n",
    "    response = requests.get(url)\n",
    "    response_json = response.json()\n",
    "    for item in response_json[\"data\"]:\n",
    "        orgs_list.append(item[\"fields\"])"
   ]
  },
  {
   "cell_type": "code",
   "execution_count": 13,
   "id": "2bbb92b0",
   "metadata": {},
   "outputs": [],
   "source": [
    "# make into dataframe\n",
    "df = pd.DataFrame(orgs_list)"
   ]
  },
  {
   "cell_type": "code",
   "execution_count": 14,
   "id": "db7b0951",
   "metadata": {},
   "outputs": [
    {
     "data": {
      "text/plain": [
       "(126, 5)"
      ]
     },
     "execution_count": 14,
     "metadata": {},
     "output_type": "execute_result"
    }
   ],
   "source": [
    "df.shape"
   ]
  },
  {
   "cell_type": "code",
   "execution_count": 15,
   "id": "e146aca7",
   "metadata": {},
   "outputs": [],
   "source": [
    "# filter out government agencies\n",
    "orgs_df = df[~df[\"name\"].str.contains(\"Government\")]"
   ]
  },
  {
   "cell_type": "code",
   "execution_count": 16,
   "id": "21918359",
   "metadata": {},
   "outputs": [
    {
     "data": {
      "text/html": [
       "<div>\n",
       "<style scoped>\n",
       "    .dataframe tbody tr th:only-of-type {\n",
       "        vertical-align: middle;\n",
       "    }\n",
       "\n",
       "    .dataframe tbody tr th {\n",
       "        vertical-align: top;\n",
       "    }\n",
       "\n",
       "    .dataframe thead th {\n",
       "        text-align: right;\n",
       "    }\n",
       "</style>\n",
       "<table border=\"1\" class=\"dataframe\">\n",
       "  <thead>\n",
       "    <tr style=\"text-align: right;\">\n",
       "      <th></th>\n",
       "      <th>name</th>\n",
       "      <th>status</th>\n",
       "      <th>shortname</th>\n",
       "      <th>homepage</th>\n",
       "      <th>url</th>\n",
       "    </tr>\n",
       "  </thead>\n",
       "  <tbody>\n",
       "    <tr>\n",
       "      <th>0</th>\n",
       "      <td>UN Country Team in Sierra Leone</td>\n",
       "      <td>active</td>\n",
       "      <td>UNCT Sierra Leone</td>\n",
       "      <td>https://sierraleone.un.org/</td>\n",
       "      <td>https://reliefweb.int/taxonomy/term/15192</td>\n",
       "    </tr>\n",
       "    <tr>\n",
       "      <th>1</th>\n",
       "      <td>Sierra Leone Red Cross Society</td>\n",
       "      <td>active</td>\n",
       "      <td>Sierra Leone Red Cross</td>\n",
       "      <td>http://sierraleoneredcross.org</td>\n",
       "      <td>https://reliefweb.int/taxonomy/term/12115</td>\n",
       "    </tr>\n",
       "    <tr>\n",
       "      <th>3</th>\n",
       "      <td>HPF South Sudan</td>\n",
       "      <td>active</td>\n",
       "      <td>HPF South Sudan</td>\n",
       "      <td>https://hpfsouthsudan.org</td>\n",
       "      <td>https://reliefweb.int/taxonomy/term/51020</td>\n",
       "    </tr>\n",
       "    <tr>\n",
       "      <th>4</th>\n",
       "      <td>ChildBride Solidarity</td>\n",
       "      <td>active</td>\n",
       "      <td>CBS</td>\n",
       "      <td>http://childbridesolidarity.org/</td>\n",
       "      <td>https://reliefweb.int/taxonomy/term/50693</td>\n",
       "    </tr>\n",
       "    <tr>\n",
       "      <th>5</th>\n",
       "      <td>Conflict Sensitivity Resource Facility</td>\n",
       "      <td>active</td>\n",
       "      <td>CSRF</td>\n",
       "      <td>https://www.csrf-southsudan.org/</td>\n",
       "      <td>https://reliefweb.int/taxonomy/term/50492</td>\n",
       "    </tr>\n",
       "    <tr>\n",
       "      <th>...</th>\n",
       "      <td>...</td>\n",
       "      <td>...</td>\n",
       "      <td>...</td>\n",
       "      <td>...</td>\n",
       "      <td>...</td>\n",
       "    </tr>\n",
       "    <tr>\n",
       "      <th>120</th>\n",
       "      <td>UN Integrated Strategy for the Sahel</td>\n",
       "      <td>active</td>\n",
       "      <td>UNISS</td>\n",
       "      <td>https://unis-sahel.org</td>\n",
       "      <td>https://reliefweb.int/taxonomy/term/51412</td>\n",
       "    </tr>\n",
       "    <tr>\n",
       "      <th>121</th>\n",
       "      <td>Mo Ibrahim Foundation</td>\n",
       "      <td>active</td>\n",
       "      <td>MIF</td>\n",
       "      <td>http://mo.ibrahim.foundation/</td>\n",
       "      <td>https://reliefweb.int/taxonomy/term/49058</td>\n",
       "    </tr>\n",
       "    <tr>\n",
       "      <th>122</th>\n",
       "      <td>UN Office for West Africa and the Sahel</td>\n",
       "      <td>active</td>\n",
       "      <td>UNOWAS</td>\n",
       "      <td>http://unowas.unmissions.org/</td>\n",
       "      <td>https://reliefweb.int/taxonomy/term/37996</td>\n",
       "    </tr>\n",
       "    <tr>\n",
       "      <th>123</th>\n",
       "      <td>UN Resident Coordinator in Senegal</td>\n",
       "      <td>active</td>\n",
       "      <td>UN RC Senegal</td>\n",
       "      <td>https://senegal.un.org/fr/about/about-the-resi...</td>\n",
       "      <td>https://reliefweb.int/taxonomy/term/22451</td>\n",
       "    </tr>\n",
       "    <tr>\n",
       "      <th>124</th>\n",
       "      <td>Croix-Rouge Sénégalaise</td>\n",
       "      <td>active</td>\n",
       "      <td>Croix-Rouge Sénégalaise</td>\n",
       "      <td>https://www.ifrc.org/fr/national-societies-dir...</td>\n",
       "      <td>https://reliefweb.int/taxonomy/term/11226</td>\n",
       "    </tr>\n",
       "  </tbody>\n",
       "</table>\n",
       "<p>109 rows × 5 columns</p>\n",
       "</div>"
      ],
      "text/plain": [
       "                                        name  status                shortname  \\\n",
       "0            UN Country Team in Sierra Leone  active        UNCT Sierra Leone   \n",
       "1             Sierra Leone Red Cross Society  active   Sierra Leone Red Cross   \n",
       "3                            HPF South Sudan  active          HPF South Sudan   \n",
       "4                      ChildBride Solidarity  active                      CBS   \n",
       "5     Conflict Sensitivity Resource Facility  active                     CSRF   \n",
       "..                                       ...     ...                      ...   \n",
       "120     UN Integrated Strategy for the Sahel  active                    UNISS   \n",
       "121                    Mo Ibrahim Foundation  active                      MIF   \n",
       "122  UN Office for West Africa and the Sahel  active                   UNOWAS   \n",
       "123       UN Resident Coordinator in Senegal  active            UN RC Senegal   \n",
       "124                  Croix-Rouge Sénégalaise  active  Croix-Rouge Sénégalaise   \n",
       "\n",
       "                                              homepage  \\\n",
       "0                          https://sierraleone.un.org/   \n",
       "1                       http://sierraleoneredcross.org   \n",
       "3                            https://hpfsouthsudan.org   \n",
       "4                     http://childbridesolidarity.org/   \n",
       "5                     https://www.csrf-southsudan.org/   \n",
       "..                                                 ...   \n",
       "120                             https://unis-sahel.org   \n",
       "121                      http://mo.ibrahim.foundation/   \n",
       "122                      http://unowas.unmissions.org/   \n",
       "123  https://senegal.un.org/fr/about/about-the-resi...   \n",
       "124  https://www.ifrc.org/fr/national-societies-dir...   \n",
       "\n",
       "                                           url  \n",
       "0    https://reliefweb.int/taxonomy/term/15192  \n",
       "1    https://reliefweb.int/taxonomy/term/12115  \n",
       "3    https://reliefweb.int/taxonomy/term/51020  \n",
       "4    https://reliefweb.int/taxonomy/term/50693  \n",
       "5    https://reliefweb.int/taxonomy/term/50492  \n",
       "..                                         ...  \n",
       "120  https://reliefweb.int/taxonomy/term/51412  \n",
       "121  https://reliefweb.int/taxonomy/term/49058  \n",
       "122  https://reliefweb.int/taxonomy/term/37996  \n",
       "123  https://reliefweb.int/taxonomy/term/22451  \n",
       "124  https://reliefweb.int/taxonomy/term/11226  \n",
       "\n",
       "[109 rows x 5 columns]"
      ]
     },
     "execution_count": 16,
     "metadata": {},
     "output_type": "execute_result"
    }
   ],
   "source": [
    "orgs_df"
   ]
  },
  {
   "cell_type": "code",
   "execution_count": 17,
   "id": "ad0f44cf",
   "metadata": {},
   "outputs": [],
   "source": [
    "orgs_df.to_csv(\"org_names.csv\", index = False)"
   ]
  },
  {
   "cell_type": "markdown",
   "id": "5a3163d4",
   "metadata": {},
   "source": [
    "### Get coordinates from google maps"
   ]
  },
  {
   "cell_type": "code",
   "execution_count": 21,
   "id": "88bba3a8",
   "metadata": {},
   "outputs": [],
   "source": [
    "def search_google_maps(query):\n",
    "    base_url = \"https://www.google.com/maps/search/\"\n",
    "    search_url = f\"{base_url}?q={query}\"\n",
    "    \n",
    "    response = requests.get(search_url)\n",
    "    return response.text"
   ]
  },
  {
   "cell_type": "code",
   "execution_count": 22,
   "id": "d03e2e01",
   "metadata": {},
   "outputs": [],
   "source": [
    "def get_coordinates(query):\n",
    "    location = search_google_maps(query)\n",
    "    index_key = \"APP_INITIALIZATION_STATE=[[[\"\n",
    "    index = location.find(index_key)\n",
    "    if index != -1:\n",
    "        # Extract the 55 characters after the found index\n",
    "        extracted_text = location[index + len(index_key): index + len(index_key) + 55]\n",
    "        split_text = extracted_text.split(\",\")\n",
    "    else:\n",
    "        split_text = \"Location not found\"\n",
    "    return split_text"
   ]
  },
  {
   "cell_type": "code",
   "execution_count": 23,
   "id": "3b79b805",
   "metadata": {},
   "outputs": [],
   "source": [
    "org_locations = []\n",
    "for org in orgs_df[\"name\"].unique():\n",
    "    location = get_coordinates(org)\n",
    "    org_loc = {\n",
    "        \"name\": org,\n",
    "        \"lat\": location[1:][1].replace(\"]\", \"\"),\n",
    "        \"long\": location[1:][0]\n",
    "    }\n",
    "    org_locations.append(org_loc)"
   ]
  },
  {
   "cell_type": "code",
   "execution_count": 26,
   "id": "a9ddd2a6",
   "metadata": {},
   "outputs": [],
   "source": [
    "orgs_df = orgs_df.merge(pd.DataFrame(org_locations), how = \"left\", on = [\"name\"])"
   ]
  },
  {
   "cell_type": "code",
   "execution_count": 27,
   "id": "56f71fbc",
   "metadata": {},
   "outputs": [
    {
     "data": {
      "text/html": [
       "<div>\n",
       "<style scoped>\n",
       "    .dataframe tbody tr th:only-of-type {\n",
       "        vertical-align: middle;\n",
       "    }\n",
       "\n",
       "    .dataframe tbody tr th {\n",
       "        vertical-align: top;\n",
       "    }\n",
       "\n",
       "    .dataframe thead th {\n",
       "        text-align: right;\n",
       "    }\n",
       "</style>\n",
       "<table border=\"1\" class=\"dataframe\">\n",
       "  <thead>\n",
       "    <tr style=\"text-align: right;\">\n",
       "      <th></th>\n",
       "      <th>name</th>\n",
       "      <th>status</th>\n",
       "      <th>shortname</th>\n",
       "      <th>homepage</th>\n",
       "      <th>url</th>\n",
       "      <th>lat</th>\n",
       "      <th>long</th>\n",
       "    </tr>\n",
       "  </thead>\n",
       "  <tbody>\n",
       "    <tr>\n",
       "      <th>104</th>\n",
       "      <td>UN Integrated Strategy for the Sahel</td>\n",
       "      <td>active</td>\n",
       "      <td>UNISS</td>\n",
       "      <td>https://unis-sahel.org</td>\n",
       "      <td>https://reliefweb.int/taxonomy/term/51412</td>\n",
       "      <td>12.06342830137239</td>\n",
       "      <td>-26.354907731243127</td>\n",
       "    </tr>\n",
       "    <tr>\n",
       "      <th>105</th>\n",
       "      <td>Mo Ibrahim Foundation</td>\n",
       "      <td>active</td>\n",
       "      <td>MIF</td>\n",
       "      <td>http://mo.ibrahim.foundation/</td>\n",
       "      <td>https://reliefweb.int/taxonomy/term/49058</td>\n",
       "      <td>37.599999999999994</td>\n",
       "      <td>-95.665</td>\n",
       "    </tr>\n",
       "    <tr>\n",
       "      <th>106</th>\n",
       "      <td>UN Office for West Africa and the Sahel</td>\n",
       "      <td>active</td>\n",
       "      <td>UNOWAS</td>\n",
       "      <td>http://unowas.unmissions.org/</td>\n",
       "      <td>https://reliefweb.int/taxonomy/term/37996</td>\n",
       "      <td>14.75003498970745</td>\n",
       "      <td>-17.511238685157934</td>\n",
       "    </tr>\n",
       "    <tr>\n",
       "      <th>107</th>\n",
       "      <td>UN Resident Coordinator in Senegal</td>\n",
       "      <td>active</td>\n",
       "      <td>UN RC Senegal</td>\n",
       "      <td>https://senegal.un.org/fr/about/about-the-resi...</td>\n",
       "      <td>https://reliefweb.int/taxonomy/term/22451</td>\n",
       "      <td>14.73964978971402</td>\n",
       "      <td>-17.517445985158115</td>\n",
       "    </tr>\n",
       "    <tr>\n",
       "      <th>108</th>\n",
       "      <td>Croix-Rouge Sénégalaise</td>\n",
       "      <td>active</td>\n",
       "      <td>Croix-Rouge Sénégalaise</td>\n",
       "      <td>https://www.ifrc.org/fr/national-societies-dir...</td>\n",
       "      <td>https://reliefweb.int/taxonomy/term/11226</td>\n",
       "      <td>14.67969579412538</td>\n",
       "      <td>-17.47053482721495</td>\n",
       "    </tr>\n",
       "  </tbody>\n",
       "</table>\n",
       "</div>"
      ],
      "text/plain": [
       "                                        name  status                shortname  \\\n",
       "104     UN Integrated Strategy for the Sahel  active                    UNISS   \n",
       "105                    Mo Ibrahim Foundation  active                      MIF   \n",
       "106  UN Office for West Africa and the Sahel  active                   UNOWAS   \n",
       "107       UN Resident Coordinator in Senegal  active            UN RC Senegal   \n",
       "108                  Croix-Rouge Sénégalaise  active  Croix-Rouge Sénégalaise   \n",
       "\n",
       "                                              homepage  \\\n",
       "104                             https://unis-sahel.org   \n",
       "105                      http://mo.ibrahim.foundation/   \n",
       "106                      http://unowas.unmissions.org/   \n",
       "107  https://senegal.un.org/fr/about/about-the-resi...   \n",
       "108  https://www.ifrc.org/fr/national-societies-dir...   \n",
       "\n",
       "                                           url                 lat  \\\n",
       "104  https://reliefweb.int/taxonomy/term/51412   12.06342830137239   \n",
       "105  https://reliefweb.int/taxonomy/term/49058  37.599999999999994   \n",
       "106  https://reliefweb.int/taxonomy/term/37996   14.75003498970745   \n",
       "107  https://reliefweb.int/taxonomy/term/22451   14.73964978971402   \n",
       "108  https://reliefweb.int/taxonomy/term/11226   14.67969579412538   \n",
       "\n",
       "                    long  \n",
       "104  -26.354907731243127  \n",
       "105              -95.665  \n",
       "106  -17.511238685157934  \n",
       "107  -17.517445985158115  \n",
       "108   -17.47053482721495  "
      ]
     },
     "execution_count": 27,
     "metadata": {},
     "output_type": "execute_result"
    }
   ],
   "source": [
    "orgs_df.tail()"
   ]
  },
  {
   "cell_type": "code",
   "execution_count": 28,
   "id": "f31fcf00",
   "metadata": {},
   "outputs": [],
   "source": [
    "orgs_df.to_csv(\"org_locations.csv\", index = False)"
   ]
  },
  {
   "cell_type": "code",
   "execution_count": 1,
   "id": "1fa76b83",
   "metadata": {},
   "outputs": [
    {
     "ename": "NameError",
     "evalue": "name 'orgs_df' is not defined",
     "output_type": "error",
     "traceback": [
      "\u001b[0;31m---------------------------------------------------------------------------\u001b[0m",
      "\u001b[0;31mNameError\u001b[0m                                 Traceback (most recent call last)",
      "Input \u001b[0;32mIn [1]\u001b[0m, in \u001b[0;36m<module>\u001b[0;34m\u001b[0m\n\u001b[0;32m----> 1\u001b[0m \u001b[43morgs_df\u001b[49m\u001b[38;5;241m.\u001b[39mshape\n",
      "\u001b[0;31mNameError\u001b[0m: name 'orgs_df' is not defined"
     ]
    }
   ],
   "source": [
    "orgs_df.shape"
   ]
  },
  {
   "cell_type": "code",
   "execution_count": null,
   "id": "9516f230",
   "metadata": {},
   "outputs": [],
   "source": []
  }
 ],
 "metadata": {
  "kernelspec": {
   "display_name": "Python 3 (ipykernel)",
   "language": "python",
   "name": "python3"
  },
  "language_info": {
   "codemirror_mode": {
    "name": "ipython",
    "version": 3
   },
   "file_extension": ".py",
   "mimetype": "text/x-python",
   "name": "python",
   "nbconvert_exporter": "python",
   "pygments_lexer": "ipython3",
   "version": "3.8.12"
  }
 },
 "nbformat": 4,
 "nbformat_minor": 5
}
